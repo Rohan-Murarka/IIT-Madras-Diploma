{
 "cells": [
  {
   "cell_type": "markdown",
   "id": "d78b7339",
   "metadata": {
    "papermill": {
     "duration": 0.005351,
     "end_time": "2025-07-05T11:43:14.505108",
     "exception": false,
     "start_time": "2025-07-05T11:43:14.499757",
     "status": "completed"
    },
    "tags": []
   },
   "source": [
    "# 📊 Exploratory Data Analysis Hands-On Session\n",
    "\n",
    "## <div style=\"background-color:#E8F4FD; padding: 20px; border-radius: 10px; border: 2px solid #1E88E5;\">Welcome to Your Exploratory Data Analysis Hands-On Session!</div>\n",
    "\n",
    "This hands-on session will test your knowledge of **pandas data analysis** and **seaborn visualization** techniques using the **Noisy Student Bag Price Prediction Dataset**. \n",
    "\n",
    "**Instructions:**\n",
    "1. Read each question carefully\n",
    "2. Write your code in the provided cells\n",
    "3. Run each cell to see the results\n",
    "\n",
    "Let's begin! 🚀"
   ]
  },
  {
   "cell_type": "markdown",
   "id": "b5bcdb9c",
   "metadata": {
    "papermill": {
     "duration": 0.00401,
     "end_time": "2025-07-05T11:43:14.514111",
     "exception": false,
     "start_time": "2025-07-05T11:43:14.510101",
     "status": "completed"
    },
    "tags": []
   },
   "source": [
    "## 1. Import Required Libraries and Load Data\n",
    "\n",
    "**Hint:** Import the necessary libraries (pandas, numpy, seaborn, matplotlib) and load the dataset into a DataFrame named `df`."
   ]
  },
  {
   "cell_type": "code",
   "execution_count": 1,
   "id": "9c024805",
   "metadata": {
    "execution": {
     "iopub.execute_input": "2025-07-05T11:43:14.523891Z",
     "iopub.status.busy": "2025-07-05T11:43:14.523465Z",
     "iopub.status.idle": "2025-07-05T11:43:14.528498Z",
     "shell.execute_reply": "2025-07-05T11:43:14.527680Z"
    },
    "papermill": {
     "duration": 0.011822,
     "end_time": "2025-07-05T11:43:14.530047",
     "exception": false,
     "start_time": "2025-07-05T11:43:14.518225",
     "status": "completed"
    },
    "tags": []
   },
   "outputs": [],
   "source": [
    "# Write your code here"
   ]
  },
  {
   "cell_type": "markdown",
   "id": "c10b9cca",
   "metadata": {
    "papermill": {
     "duration": 0.004004,
     "end_time": "2025-07-05T11:43:14.538936",
     "exception": false,
     "start_time": "2025-07-05T11:43:14.534932",
     "status": "completed"
    },
    "tags": []
   },
   "source": [
    "## 2. Show the Basic Statistics of the Data\n",
    "\n",
    "**Question:** Show the basic statistics (mean, std, min, max, etc.) for the numeric columns in the dataset.\n",
    "\n",
    "**Hint:** Write code to display summary statistics for all numeric columns."
   ]
  },
  {
   "cell_type": "code",
   "execution_count": 2,
   "id": "ef9e8707",
   "metadata": {
    "execution": {
     "iopub.execute_input": "2025-07-05T11:43:14.549012Z",
     "iopub.status.busy": "2025-07-05T11:43:14.548408Z",
     "iopub.status.idle": "2025-07-05T11:43:14.552315Z",
     "shell.execute_reply": "2025-07-05T11:43:14.551432Z"
    },
    "papermill": {
     "duration": 0.010609,
     "end_time": "2025-07-05T11:43:14.553787",
     "exception": false,
     "start_time": "2025-07-05T11:43:14.543178",
     "status": "completed"
    },
    "tags": []
   },
   "outputs": [],
   "source": [
    "# Write your code here"
   ]
  },
  {
   "cell_type": "markdown",
   "id": "1957c591",
   "metadata": {
    "papermill": {
     "duration": 0.004059,
     "end_time": "2025-07-05T11:43:14.562288",
     "exception": false,
     "start_time": "2025-07-05T11:43:14.558229",
     "status": "completed"
    },
    "tags": []
   },
   "source": [
    "## 3. Display the First 5 Rows of the Dataset\n",
    "\n",
    "**Question:** Display the first 5 rows of the dataset to get an overview of the data.\n",
    "\n",
    "**Hint:** Write code to show the first 5 records of the dataset."
   ]
  },
  {
   "cell_type": "code",
   "execution_count": 3,
   "id": "74ed958c",
   "metadata": {
    "execution": {
     "iopub.execute_input": "2025-07-05T11:43:14.571918Z",
     "iopub.status.busy": "2025-07-05T11:43:14.571610Z",
     "iopub.status.idle": "2025-07-05T11:43:14.575648Z",
     "shell.execute_reply": "2025-07-05T11:43:14.574755Z"
    },
    "papermill": {
     "duration": 0.010541,
     "end_time": "2025-07-05T11:43:14.577095",
     "exception": false,
     "start_time": "2025-07-05T11:43:14.566554",
     "status": "completed"
    },
    "tags": []
   },
   "outputs": [],
   "source": [
    "# Write your code here"
   ]
  },
  {
   "cell_type": "markdown",
   "id": "7acf56a0",
   "metadata": {
    "papermill": {
     "duration": 0.004038,
     "end_time": "2025-07-05T11:43:14.585797",
     "exception": false,
     "start_time": "2025-07-05T11:43:14.581759",
     "status": "completed"
    },
    "tags": []
   },
   "source": [
    "## 4. Check Data Types of Each Column\n",
    "\n",
    "**Question:** What are the data types of each column in the dataset?\n",
    "\n",
    "**Hint:** Write code to display the data types of all columns in the dataset."
   ]
  },
  {
   "cell_type": "code",
   "execution_count": 4,
   "id": "9dd442ab",
   "metadata": {
    "execution": {
     "iopub.execute_input": "2025-07-05T11:43:14.596056Z",
     "iopub.status.busy": "2025-07-05T11:43:14.595695Z",
     "iopub.status.idle": "2025-07-05T11:43:14.600039Z",
     "shell.execute_reply": "2025-07-05T11:43:14.599094Z"
    },
    "papermill": {
     "duration": 0.011097,
     "end_time": "2025-07-05T11:43:14.601507",
     "exception": false,
     "start_time": "2025-07-05T11:43:14.590410",
     "status": "completed"
    },
    "tags": []
   },
   "outputs": [],
   "source": [
    "# Write your code here"
   ]
  },
  {
   "cell_type": "markdown",
   "id": "841c5834",
   "metadata": {
    "papermill": {
     "duration": 0.004039,
     "end_time": "2025-07-05T11:43:14.609948",
     "exception": false,
     "start_time": "2025-07-05T11:43:14.605909",
     "status": "completed"
    },
    "tags": []
   },
   "source": [
    "## 5. Show the Number of Missing Values in Each Column\n",
    "\n",
    "**Question:** How many missing values are there in each column?\n",
    "\n",
    "**Hint:** Write code to count the missing values in each column of the dataset."
   ]
  },
  {
   "cell_type": "code",
   "execution_count": 5,
   "id": "5808eef1",
   "metadata": {
    "execution": {
     "iopub.execute_input": "2025-07-05T11:43:14.619924Z",
     "iopub.status.busy": "2025-07-05T11:43:14.619312Z",
     "iopub.status.idle": "2025-07-05T11:43:14.622950Z",
     "shell.execute_reply": "2025-07-05T11:43:14.622268Z"
    },
    "papermill": {
     "duration": 0.010217,
     "end_time": "2025-07-05T11:43:14.624361",
     "exception": false,
     "start_time": "2025-07-05T11:43:14.614144",
     "status": "completed"
    },
    "tags": []
   },
   "outputs": [],
   "source": [
    "# Write your code here"
   ]
  },
  {
   "cell_type": "markdown",
   "id": "b76187ef",
   "metadata": {
    "papermill": {
     "duration": 0.003989,
     "end_time": "2025-07-05T11:43:14.632942",
     "exception": false,
     "start_time": "2025-07-05T11:43:14.628953",
     "status": "completed"
    },
    "tags": []
   },
   "source": [
    "## 6. Show the Distribution of Bag Prices (Histogram)\n",
    "\n",
    "**Question:** What is the distribution of bag prices in the dataset?\n",
    "\n",
    "**Hint:** Create a histogram to visualize the distribution of bag prices. Include both bars and a KDE curve."
   ]
  },
  {
   "cell_type": "code",
   "execution_count": 6,
   "id": "df0513c5",
   "metadata": {
    "execution": {
     "iopub.execute_input": "2025-07-05T11:43:14.642955Z",
     "iopub.status.busy": "2025-07-05T11:43:14.642609Z",
     "iopub.status.idle": "2025-07-05T11:43:14.646500Z",
     "shell.execute_reply": "2025-07-05T11:43:14.645526Z"
    },
    "papermill": {
     "duration": 0.010979,
     "end_time": "2025-07-05T11:43:14.648077",
     "exception": false,
     "start_time": "2025-07-05T11:43:14.637098",
     "status": "completed"
    },
    "tags": []
   },
   "outputs": [],
   "source": [
    "# Write your code here"
   ]
  },
  {
   "cell_type": "markdown",
   "id": "070a97da",
   "metadata": {
    "papermill": {
     "duration": 0.004054,
     "end_time": "2025-07-05T11:43:14.657488",
     "exception": false,
     "start_time": "2025-07-05T11:43:14.653434",
     "status": "completed"
    },
    "tags": []
   },
   "source": [
    "## 7. Which Brand Has the Highest Average Price? (Bar Plot)\n",
    "\n",
    "**Question:** Which brand has the highest average bag price?\n",
    "\n",
    "**Hint:** Create a bar plot to compare the average prices across different brands."
   ]
  },
  {
   "cell_type": "code",
   "execution_count": 7,
   "id": "3f8f9161",
   "metadata": {
    "execution": {
     "iopub.execute_input": "2025-07-05T11:43:14.667181Z",
     "iopub.status.busy": "2025-07-05T11:43:14.666839Z",
     "iopub.status.idle": "2025-07-05T11:43:14.671085Z",
     "shell.execute_reply": "2025-07-05T11:43:14.669992Z"
    },
    "papermill": {
     "duration": 0.010959,
     "end_time": "2025-07-05T11:43:14.672643",
     "exception": false,
     "start_time": "2025-07-05T11:43:14.661684",
     "status": "completed"
    },
    "tags": []
   },
   "outputs": [],
   "source": [
    "# Write your code here"
   ]
  },
  {
   "cell_type": "markdown",
   "id": "caafe991",
   "metadata": {
    "papermill": {
     "duration": 0.004466,
     "end_time": "2025-07-05T11:43:14.681631",
     "exception": false,
     "start_time": "2025-07-05T11:43:14.677165",
     "status": "completed"
    },
    "tags": []
   },
   "source": [
    "## 8. Compare the Average Price by Material (Bar Plot)\n",
    "\n",
    "**Question:** Which material is associated with the highest average bag price?\n",
    "\n",
    "**Hint:** Create a bar plot to compare average prices across different materials."
   ]
  },
  {
   "cell_type": "code",
   "execution_count": 8,
   "id": "353ae8b2",
   "metadata": {
    "execution": {
     "iopub.execute_input": "2025-07-05T11:43:14.692379Z",
     "iopub.status.busy": "2025-07-05T11:43:14.692040Z",
     "iopub.status.idle": "2025-07-05T11:43:14.696170Z",
     "shell.execute_reply": "2025-07-05T11:43:14.695330Z"
    },
    "papermill": {
     "duration": 0.011694,
     "end_time": "2025-07-05T11:43:14.697688",
     "exception": false,
     "start_time": "2025-07-05T11:43:14.685994",
     "status": "completed"
    },
    "tags": []
   },
   "outputs": [],
   "source": [
    "# Write your code here"
   ]
  },
  {
   "cell_type": "markdown",
   "id": "136539f4",
   "metadata": {
    "papermill": {
     "duration": 0.004111,
     "end_time": "2025-07-05T11:43:14.706442",
     "exception": false,
     "start_time": "2025-07-05T11:43:14.702331",
     "status": "completed"
    },
    "tags": []
   },
   "source": [
    "## 9. Show the Relationship Between Weight Capacity and Price (Scatter Plot with Regression)\n",
    "\n",
    "**Question:** Is there a relationship between weight capacity and price? Let's explore this with a cleaner visualization.\n",
    "\n",
    "**Hint:** Create a scatter plot with a regression line to visualize the relationship between weight capacity and price, using a sample of the data for clarity."
   ]
  },
  {
   "cell_type": "code",
   "execution_count": 9,
   "id": "ca014c0f",
   "metadata": {
    "execution": {
     "iopub.execute_input": "2025-07-05T11:43:14.717955Z",
     "iopub.status.busy": "2025-07-05T11:43:14.717643Z",
     "iopub.status.idle": "2025-07-05T11:43:14.722624Z",
     "shell.execute_reply": "2025-07-05T11:43:14.721601Z"
    },
    "papermill": {
     "duration": 0.013472,
     "end_time": "2025-07-05T11:43:14.724174",
     "exception": false,
     "start_time": "2025-07-05T11:43:14.710702",
     "status": "completed"
    },
    "tags": []
   },
   "outputs": [],
   "source": [
    "# Write your code here"
   ]
  },
  {
   "cell_type": "markdown",
   "id": "1691b835",
   "metadata": {
    "papermill": {
     "duration": 0.004292,
     "end_time": "2025-07-05T11:43:14.733678",
     "exception": false,
     "start_time": "2025-07-05T11:43:14.729386",
     "status": "completed"
    },
    "tags": []
   },
   "source": [
    "## 10. Is There a Correlation Between Number of Compartments and Price? (Line Plot)\n",
    "\n",
    "**Question:** Is there a trend between the number of compartments and the price of bags?\n",
    "\n",
    "**Hint:** Create a line plot to show the average price trend based on the number of compartments."
   ]
  },
  {
   "cell_type": "code",
   "execution_count": 10,
   "id": "dfb0d4de",
   "metadata": {
    "execution": {
     "iopub.execute_input": "2025-07-05T11:43:14.744293Z",
     "iopub.status.busy": "2025-07-05T11:43:14.743980Z",
     "iopub.status.idle": "2025-07-05T11:43:14.748187Z",
     "shell.execute_reply": "2025-07-05T11:43:14.747318Z"
    },
    "papermill": {
     "duration": 0.011592,
     "end_time": "2025-07-05T11:43:14.749710",
     "exception": false,
     "start_time": "2025-07-05T11:43:14.738118",
     "status": "completed"
    },
    "tags": []
   },
   "outputs": [],
   "source": [
    "# Write your code here"
   ]
  },
  {
   "cell_type": "markdown",
   "id": "75c2e135",
   "metadata": {
    "papermill": {
     "duration": 0.0045,
     "end_time": "2025-07-05T11:43:14.758898",
     "exception": false,
     "start_time": "2025-07-05T11:43:14.754398",
     "status": "completed"
    },
    "tags": []
   },
   "source": [
    "## 11. Show the Distribution of Price by Bag Style (Box Plot)\n",
    "\n",
    "**Question:** How does the price distribution vary by bag style?\n",
    "\n",
    "**Hint:** Create a box plot to compare price distributions across different bag styles."
   ]
  },
  {
   "cell_type": "code",
   "execution_count": 11,
   "id": "1b24fdb6",
   "metadata": {
    "execution": {
     "iopub.execute_input": "2025-07-05T11:43:14.769318Z",
     "iopub.status.busy": "2025-07-05T11:43:14.769022Z",
     "iopub.status.idle": "2025-07-05T11:43:14.773032Z",
     "shell.execute_reply": "2025-07-05T11:43:14.772112Z"
    },
    "papermill": {
     "duration": 0.011378,
     "end_time": "2025-07-05T11:43:14.774910",
     "exception": false,
     "start_time": "2025-07-05T11:43:14.763532",
     "status": "completed"
    },
    "tags": []
   },
   "outputs": [],
   "source": [
    "# Write your code here"
   ]
  },
  {
   "cell_type": "markdown",
   "id": "d7cc2f60",
   "metadata": {
    "papermill": {
     "duration": 0.004665,
     "end_time": "2025-07-05T11:43:14.784351",
     "exception": false,
     "start_time": "2025-07-05T11:43:14.779686",
     "status": "completed"
    },
    "tags": []
   },
   "source": [
    "## 12. Compare the Price Distribution for Waterproof vs Non-Waterproof Bags (Violin Plot)\n",
    "\n",
    "**Question:** How does the price distribution differ between waterproof and non-waterproof bags?\n",
    "\n",
    "**Hint:** Create a violin plot to compare the price distributions between waterproof and non-waterproof bags."
   ]
  },
  {
   "cell_type": "code",
   "execution_count": 12,
   "id": "fe2aeea7",
   "metadata": {
    "execution": {
     "iopub.execute_input": "2025-07-05T11:43:14.795402Z",
     "iopub.status.busy": "2025-07-05T11:43:14.794724Z",
     "iopub.status.idle": "2025-07-05T11:43:14.798825Z",
     "shell.execute_reply": "2025-07-05T11:43:14.797913Z"
    },
    "papermill": {
     "duration": 0.011144,
     "end_time": "2025-07-05T11:43:14.800239",
     "exception": false,
     "start_time": "2025-07-05T11:43:14.789095",
     "status": "completed"
    },
    "tags": []
   },
   "outputs": [],
   "source": [
    "# Write your code here"
   ]
  },
  {
   "cell_type": "markdown",
   "id": "6c985f6e",
   "metadata": {
    "papermill": {
     "duration": 0.004904,
     "end_time": "2025-07-05T11:43:14.810289",
     "exception": false,
     "start_time": "2025-07-05T11:43:14.805385",
     "status": "completed"
    },
    "tags": []
   },
   "source": [
    "## 13. Show Pairwise Relationships Between Numeric Features (Pair Plot)\n",
    "\n",
    "**Question:** What are the pairwise relationships between numeric features in the dataset?\n",
    "\n",
    "**Hint:** Create a pair plot to visualize relationships between all numeric features, with different colors for each brand."
   ]
  },
  {
   "cell_type": "code",
   "execution_count": 13,
   "id": "bdea2182",
   "metadata": {
    "execution": {
     "iopub.execute_input": "2025-07-05T11:43:14.822312Z",
     "iopub.status.busy": "2025-07-05T11:43:14.821946Z",
     "iopub.status.idle": "2025-07-05T11:43:14.826991Z",
     "shell.execute_reply": "2025-07-05T11:43:14.825770Z"
    },
    "papermill": {
     "duration": 0.013737,
     "end_time": "2025-07-05T11:43:14.828795",
     "exception": false,
     "start_time": "2025-07-05T11:43:14.815058",
     "status": "completed"
    },
    "tags": []
   },
   "outputs": [],
   "source": [
    "# Write your code here"
   ]
  },
  {
   "cell_type": "markdown",
   "id": "c16f0256",
   "metadata": {
    "papermill": {
     "duration": 0.004329,
     "end_time": "2025-07-05T11:43:14.838902",
     "exception": false,
     "start_time": "2025-07-05T11:43:14.834573",
     "status": "completed"
    },
    "tags": []
   },
   "source": [
    "## 14. Show the Correlation Matrix as a Heatmap\n",
    "\n",
    "**Question:** What is the correlation between the numeric features in the dataset?\n",
    "\n",
    "**Hint:** Create a heatmap to visualize the correlation matrix of numeric features."
   ]
  },
  {
   "cell_type": "code",
   "execution_count": 14,
   "id": "de4f39bb",
   "metadata": {
    "execution": {
     "iopub.execute_input": "2025-07-05T11:43:14.849193Z",
     "iopub.status.busy": "2025-07-05T11:43:14.848882Z",
     "iopub.status.idle": "2025-07-05T11:43:14.852825Z",
     "shell.execute_reply": "2025-07-05T11:43:14.852091Z"
    },
    "papermill": {
     "duration": 0.010691,
     "end_time": "2025-07-05T11:43:14.854136",
     "exception": false,
     "start_time": "2025-07-05T11:43:14.843445",
     "status": "completed"
    },
    "tags": []
   },
   "outputs": [],
   "source": [
    "# Write your code here"
   ]
  },
  {
   "cell_type": "markdown",
   "id": "fcef0227",
   "metadata": {
    "papermill": {
     "duration": 0.004262,
     "end_time": "2025-07-05T11:43:14.863221",
     "exception": false,
     "start_time": "2025-07-05T11:43:14.858959",
     "status": "completed"
    },
    "tags": []
   },
   "source": [
    "## 15. Show the Count of Bags by Brand (Count Plot)\n",
    "\n",
    "**Question:** Which brand has the most bags in the dataset?\n",
    "\n",
    "**Hint:** Create a count plot to show the number of bags for each brand in the dataset."
   ]
  },
  {
   "cell_type": "code",
   "execution_count": 15,
   "id": "74a5ce04",
   "metadata": {
    "execution": {
     "iopub.execute_input": "2025-07-05T11:43:14.873544Z",
     "iopub.status.busy": "2025-07-05T11:43:14.873193Z",
     "iopub.status.idle": "2025-07-05T11:43:14.876964Z",
     "shell.execute_reply": "2025-07-05T11:43:14.876287Z"
    },
    "papermill": {
     "duration": 0.010661,
     "end_time": "2025-07-05T11:43:14.878381",
     "exception": false,
     "start_time": "2025-07-05T11:43:14.867720",
     "status": "completed"
    },
    "tags": []
   },
   "outputs": [],
   "source": [
    "# Write your code here"
   ]
  },
  {
   "cell_type": "markdown",
   "id": "a84ce9b5",
   "metadata": {
    "papermill": {
     "duration": 0.004428,
     "end_time": "2025-07-05T11:43:14.887760",
     "exception": false,
     "start_time": "2025-07-05T11:43:14.883332",
     "status": "completed"
    },
    "tags": []
   },
   "source": [
    "## 🎯 Hands-On Session Complete!\n",
    "\n",
    "### <div style=\"background-color:#D4E6F1; padding: 15px; border-radius: 10px;\">Congratulations on completing the Exploratory Data Analysis Hands-On Session!</div>\n",
    "\n",
    "**What you have learned:**\n",
    "- ✅ Basic data exploration techniques (`df.head()`, `df.describe()`, `df.dtypes`)\n",
    "- ✅ Data quality assessment (`df.isnull().sum()`)\n",
    "- ✅ Data aggregation and grouping (`df.groupby()`, `.agg()`, `.mean()`, `.median()`)\n",
    "- ✅ Distribution visualization with **histograms**\n",
    "- ✅ Category comparison with **bar plots**\n",
    "- ✅ Relationship analysis with **scatter plots** and **line plots**\n",
    "- ✅ Distribution comparison with **box plots** and **violin plots**\n",
    "- ✅ Multi-variable exploration with **pair plots**\n",
    "- ✅ Correlation analysis with **heatmaps** and `.corr()`\n",
    "- ✅ Frequency analysis with **count plots**\n",
    "- ✅ Statistical estimators (`np.mean`, standard deviation, confidence intervals)\n",
    "- ✅ Data filtering and selection techniques\n",
    "\n",
    "Keep practicing and exploring data! 📊✨"
   ]
  }
 ],
 "metadata": {
  "kaggle": {
   "accelerator": "none",
   "dataSources": [],
   "dockerImageVersionId": 31040,
   "isGpuEnabled": false,
   "isInternetEnabled": true,
   "language": "python",
   "sourceType": "notebook"
  },
  "kernelspec": {
   "display_name": "Python 3",
   "language": "python",
   "name": "python3"
  },
  "language_info": {
   "codemirror_mode": {
    "name": "ipython",
    "version": 3
   },
   "file_extension": ".py",
   "mimetype": "text/x-python",
   "name": "python",
   "nbconvert_exporter": "python",
   "pygments_lexer": "ipython3",
   "version": "3.11.11"
  },
  "papermill": {
   "default_parameters": {},
   "duration": 5.784391,
   "end_time": "2025-07-05T11:43:15.310577",
   "environment_variables": {},
   "exception": null,
   "input_path": "__notebook__.ipynb",
   "output_path": "__notebook__.ipynb",
   "parameters": {},
   "start_time": "2025-07-05T11:43:09.526186",
   "version": "2.6.0"
  }
 },
 "nbformat": 4,
 "nbformat_minor": 5
}
