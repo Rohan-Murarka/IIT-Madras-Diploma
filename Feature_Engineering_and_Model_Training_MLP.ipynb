{
  "nbformat": 4,
  "nbformat_minor": 0,
  "metadata": {
    "colab": {
      "provenance": []
    },
    "kernelspec": {
      "name": "python3",
      "display_name": "Python 3"
    },
    "language_info": {
      "name": "python"
    }
  },
  "cells": [
    {
      "cell_type": "markdown",
      "source": [
        "***`Do make a copy of this notebook to your Drive & then start working on it`***"
      ],
      "metadata": {
        "id": "VGrYnI83r-ED"
      }
    },
    {
      "cell_type": "markdown",
      "source": [
        "***`Use f1 macro score as the scoring metric`***"
      ],
      "metadata": {
        "id": "p1-JT1YJsHZ3"
      }
    },
    {
      "cell_type": "markdown",
      "source": [
        "### Dataset Link: https://drive.google.com/file/d/1q811L59XK5PXHsdxISs6wd1O-PPCMF_F/view"
      ],
      "metadata": {
        "id": "F9QAsnQCsYT8"
      }
    },
    {
      "cell_type": "markdown",
      "source": [
        "### Import `Important` Libraries"
      ],
      "metadata": {
        "id": "KBuRrGSIsbOi"
      }
    },
    {
      "cell_type": "code",
      "source": [],
      "metadata": {
        "id": "dPkuakWtreP_"
      },
      "execution_count": null,
      "outputs": []
    },
    {
      "cell_type": "markdown",
      "source": [
        "### Q1: Perform Feature Engineering on the \"last contact date\" predictor & create 6 columns out of it which will have the names as:\n",
        "* contact_year\n",
        "* contact_month\n",
        "* contact_day\n",
        "* day_name\n",
        "* month_name\n",
        "* is_weekend\n",
        "\n",
        "Hint: use pandas to perform FE. Also, you can print the who DataFrame to check if it worked or not"
      ],
      "metadata": {
        "id": "EuQ9uRTahDB9"
      }
    },
    {
      "cell_type": "code",
      "source": [],
      "metadata": {
        "colab": {
          "base_uri": "https://localhost:8080/",
          "height": 377
        },
        "id": "xY7DvIEwNeEq",
        "outputId": "d5b7c0fa-07d1-42eb-b30f-080f39fc96a8"
      },
      "execution_count": null,
      "outputs": [
        {
          "output_type": "execute_result",
          "data": {
            "text/plain": [
              "  last contact date  age           job  marital  education default  balance  \\\n",
              "0        2009-04-17   26   blue-collar  married  secondary      no      647   \n",
              "1        2009-10-11   52    technician  married  secondary      no      553   \n",
              "2        2010-11-20   44   blue-collar  married  secondary      no     1397   \n",
              "3        2009-09-01   33        admin.  married  secondary      no      394   \n",
              "4        2008-01-29   31  entrepreneur   single   tertiary      no      137   \n",
              "\n",
              "  housing loan    contact  ...  campaign  pdays  previous  poutcome target  \\\n",
              "0     yes   no   cellular  ...         2    331         1     other     no   \n",
              "1     yes   no  telephone  ...         1     -1         0       NaN     no   \n",
              "2      no   no   cellular  ...         1     -1         0       NaN     no   \n",
              "3     yes   no  telephone  ...         3     -1         0       NaN     no   \n",
              "4      no   no   cellular  ...         2     -1         0       NaN     no   \n",
              "\n",
              "  contact_year  contact_month  contact_day  day_name month_name  \n",
              "0         2009              4           17    Friday      April  \n",
              "1         2009             10           11    Sunday    October  \n",
              "2         2010             11           20  Saturday   November  \n",
              "3         2009              9            1   Tuesday  September  \n",
              "4         2008              1           29   Tuesday    January  \n",
              "\n",
              "[5 rows x 21 columns]"
            ],
            "text/html": [
              "\n",
              "  <div id=\"df-5a981892-2cfe-45a0-ac8a-3c72dd89961a\" class=\"colab-df-container\">\n",
              "    <div>\n",
              "<style scoped>\n",
              "    .dataframe tbody tr th:only-of-type {\n",
              "        vertical-align: middle;\n",
              "    }\n",
              "\n",
              "    .dataframe tbody tr th {\n",
              "        vertical-align: top;\n",
              "    }\n",
              "\n",
              "    .dataframe thead th {\n",
              "        text-align: right;\n",
              "    }\n",
              "</style>\n",
              "<table border=\"1\" class=\"dataframe\">\n",
              "  <thead>\n",
              "    <tr style=\"text-align: right;\">\n",
              "      <th></th>\n",
              "      <th>last contact date</th>\n",
              "      <th>age</th>\n",
              "      <th>job</th>\n",
              "      <th>marital</th>\n",
              "      <th>education</th>\n",
              "      <th>default</th>\n",
              "      <th>balance</th>\n",
              "      <th>housing</th>\n",
              "      <th>loan</th>\n",
              "      <th>contact</th>\n",
              "      <th>...</th>\n",
              "      <th>campaign</th>\n",
              "      <th>pdays</th>\n",
              "      <th>previous</th>\n",
              "      <th>poutcome</th>\n",
              "      <th>target</th>\n",
              "      <th>contact_year</th>\n",
              "      <th>contact_month</th>\n",
              "      <th>contact_day</th>\n",
              "      <th>day_name</th>\n",
              "      <th>month_name</th>\n",
              "    </tr>\n",
              "  </thead>\n",
              "  <tbody>\n",
              "    <tr>\n",
              "      <th>0</th>\n",
              "      <td>2009-04-17</td>\n",
              "      <td>26</td>\n",
              "      <td>blue-collar</td>\n",
              "      <td>married</td>\n",
              "      <td>secondary</td>\n",
              "      <td>no</td>\n",
              "      <td>647</td>\n",
              "      <td>yes</td>\n",
              "      <td>no</td>\n",
              "      <td>cellular</td>\n",
              "      <td>...</td>\n",
              "      <td>2</td>\n",
              "      <td>331</td>\n",
              "      <td>1</td>\n",
              "      <td>other</td>\n",
              "      <td>no</td>\n",
              "      <td>2009</td>\n",
              "      <td>4</td>\n",
              "      <td>17</td>\n",
              "      <td>Friday</td>\n",
              "      <td>April</td>\n",
              "    </tr>\n",
              "    <tr>\n",
              "      <th>1</th>\n",
              "      <td>2009-10-11</td>\n",
              "      <td>52</td>\n",
              "      <td>technician</td>\n",
              "      <td>married</td>\n",
              "      <td>secondary</td>\n",
              "      <td>no</td>\n",
              "      <td>553</td>\n",
              "      <td>yes</td>\n",
              "      <td>no</td>\n",
              "      <td>telephone</td>\n",
              "      <td>...</td>\n",
              "      <td>1</td>\n",
              "      <td>-1</td>\n",
              "      <td>0</td>\n",
              "      <td>NaN</td>\n",
              "      <td>no</td>\n",
              "      <td>2009</td>\n",
              "      <td>10</td>\n",
              "      <td>11</td>\n",
              "      <td>Sunday</td>\n",
              "      <td>October</td>\n",
              "    </tr>\n",
              "    <tr>\n",
              "      <th>2</th>\n",
              "      <td>2010-11-20</td>\n",
              "      <td>44</td>\n",
              "      <td>blue-collar</td>\n",
              "      <td>married</td>\n",
              "      <td>secondary</td>\n",
              "      <td>no</td>\n",
              "      <td>1397</td>\n",
              "      <td>no</td>\n",
              "      <td>no</td>\n",
              "      <td>cellular</td>\n",
              "      <td>...</td>\n",
              "      <td>1</td>\n",
              "      <td>-1</td>\n",
              "      <td>0</td>\n",
              "      <td>NaN</td>\n",
              "      <td>no</td>\n",
              "      <td>2010</td>\n",
              "      <td>11</td>\n",
              "      <td>20</td>\n",
              "      <td>Saturday</td>\n",
              "      <td>November</td>\n",
              "    </tr>\n",
              "    <tr>\n",
              "      <th>3</th>\n",
              "      <td>2009-09-01</td>\n",
              "      <td>33</td>\n",
              "      <td>admin.</td>\n",
              "      <td>married</td>\n",
              "      <td>secondary</td>\n",
              "      <td>no</td>\n",
              "      <td>394</td>\n",
              "      <td>yes</td>\n",
              "      <td>no</td>\n",
              "      <td>telephone</td>\n",
              "      <td>...</td>\n",
              "      <td>3</td>\n",
              "      <td>-1</td>\n",
              "      <td>0</td>\n",
              "      <td>NaN</td>\n",
              "      <td>no</td>\n",
              "      <td>2009</td>\n",
              "      <td>9</td>\n",
              "      <td>1</td>\n",
              "      <td>Tuesday</td>\n",
              "      <td>September</td>\n",
              "    </tr>\n",
              "    <tr>\n",
              "      <th>4</th>\n",
              "      <td>2008-01-29</td>\n",
              "      <td>31</td>\n",
              "      <td>entrepreneur</td>\n",
              "      <td>single</td>\n",
              "      <td>tertiary</td>\n",
              "      <td>no</td>\n",
              "      <td>137</td>\n",
              "      <td>no</td>\n",
              "      <td>no</td>\n",
              "      <td>cellular</td>\n",
              "      <td>...</td>\n",
              "      <td>2</td>\n",
              "      <td>-1</td>\n",
              "      <td>0</td>\n",
              "      <td>NaN</td>\n",
              "      <td>no</td>\n",
              "      <td>2008</td>\n",
              "      <td>1</td>\n",
              "      <td>29</td>\n",
              "      <td>Tuesday</td>\n",
              "      <td>January</td>\n",
              "    </tr>\n",
              "  </tbody>\n",
              "</table>\n",
              "<p>5 rows × 21 columns</p>\n",
              "</div>\n",
              "    <div class=\"colab-df-buttons\">\n",
              "\n",
              "  <div class=\"colab-df-container\">\n",
              "    <button class=\"colab-df-convert\" onclick=\"convertToInteractive('df-5a981892-2cfe-45a0-ac8a-3c72dd89961a')\"\n",
              "            title=\"Convert this dataframe to an interactive table.\"\n",
              "            style=\"display:none;\">\n",
              "\n",
              "  <svg xmlns=\"http://www.w3.org/2000/svg\" height=\"24px\" viewBox=\"0 -960 960 960\">\n",
              "    <path d=\"M120-120v-720h720v720H120Zm60-500h600v-160H180v160Zm220 220h160v-160H400v160Zm0 220h160v-160H400v160ZM180-400h160v-160H180v160Zm440 0h160v-160H620v160ZM180-180h160v-160H180v160Zm440 0h160v-160H620v160Z\"/>\n",
              "  </svg>\n",
              "    </button>\n",
              "\n",
              "  <style>\n",
              "    .colab-df-container {\n",
              "      display:flex;\n",
              "      gap: 12px;\n",
              "    }\n",
              "\n",
              "    .colab-df-convert {\n",
              "      background-color: #E8F0FE;\n",
              "      border: none;\n",
              "      border-radius: 50%;\n",
              "      cursor: pointer;\n",
              "      display: none;\n",
              "      fill: #1967D2;\n",
              "      height: 32px;\n",
              "      padding: 0 0 0 0;\n",
              "      width: 32px;\n",
              "    }\n",
              "\n",
              "    .colab-df-convert:hover {\n",
              "      background-color: #E2EBFA;\n",
              "      box-shadow: 0px 1px 2px rgba(60, 64, 67, 0.3), 0px 1px 3px 1px rgba(60, 64, 67, 0.15);\n",
              "      fill: #174EA6;\n",
              "    }\n",
              "\n",
              "    .colab-df-buttons div {\n",
              "      margin-bottom: 4px;\n",
              "    }\n",
              "\n",
              "    [theme=dark] .colab-df-convert {\n",
              "      background-color: #3B4455;\n",
              "      fill: #D2E3FC;\n",
              "    }\n",
              "\n",
              "    [theme=dark] .colab-df-convert:hover {\n",
              "      background-color: #434B5C;\n",
              "      box-shadow: 0px 1px 3px 1px rgba(0, 0, 0, 0.15);\n",
              "      filter: drop-shadow(0px 1px 2px rgba(0, 0, 0, 0.3));\n",
              "      fill: #FFFFFF;\n",
              "    }\n",
              "  </style>\n",
              "\n",
              "    <script>\n",
              "      const buttonEl =\n",
              "        document.querySelector('#df-5a981892-2cfe-45a0-ac8a-3c72dd89961a button.colab-df-convert');\n",
              "      buttonEl.style.display =\n",
              "        google.colab.kernel.accessAllowed ? 'block' : 'none';\n",
              "\n",
              "      async function convertToInteractive(key) {\n",
              "        const element = document.querySelector('#df-5a981892-2cfe-45a0-ac8a-3c72dd89961a');\n",
              "        const dataTable =\n",
              "          await google.colab.kernel.invokeFunction('convertToInteractive',\n",
              "                                                    [key], {});\n",
              "        if (!dataTable) return;\n",
              "\n",
              "        const docLinkHtml = 'Like what you see? Visit the ' +\n",
              "          '<a target=\"_blank\" href=https://colab.research.google.com/notebooks/data_table.ipynb>data table notebook</a>'\n",
              "          + ' to learn more about interactive tables.';\n",
              "        element.innerHTML = '';\n",
              "        dataTable['output_type'] = 'display_data';\n",
              "        await google.colab.output.renderOutput(dataTable, element);\n",
              "        const docLink = document.createElement('div');\n",
              "        docLink.innerHTML = docLinkHtml;\n",
              "        element.appendChild(docLink);\n",
              "      }\n",
              "    </script>\n",
              "  </div>\n",
              "\n",
              "\n",
              "    <div id=\"df-fc926f83-873d-4493-95aa-64899f2ea5ef\">\n",
              "      <button class=\"colab-df-quickchart\" onclick=\"quickchart('df-fc926f83-873d-4493-95aa-64899f2ea5ef')\"\n",
              "                title=\"Suggest charts\"\n",
              "                style=\"display:none;\">\n",
              "\n",
              "<svg xmlns=\"http://www.w3.org/2000/svg\" height=\"24px\"viewBox=\"0 0 24 24\"\n",
              "     width=\"24px\">\n",
              "    <g>\n",
              "        <path d=\"M19 3H5c-1.1 0-2 .9-2 2v14c0 1.1.9 2 2 2h14c1.1 0 2-.9 2-2V5c0-1.1-.9-2-2-2zM9 17H7v-7h2v7zm4 0h-2V7h2v10zm4 0h-2v-4h2v4z\"/>\n",
              "    </g>\n",
              "</svg>\n",
              "      </button>\n",
              "\n",
              "<style>\n",
              "  .colab-df-quickchart {\n",
              "      --bg-color: #E8F0FE;\n",
              "      --fill-color: #1967D2;\n",
              "      --hover-bg-color: #E2EBFA;\n",
              "      --hover-fill-color: #174EA6;\n",
              "      --disabled-fill-color: #AAA;\n",
              "      --disabled-bg-color: #DDD;\n",
              "  }\n",
              "\n",
              "  [theme=dark] .colab-df-quickchart {\n",
              "      --bg-color: #3B4455;\n",
              "      --fill-color: #D2E3FC;\n",
              "      --hover-bg-color: #434B5C;\n",
              "      --hover-fill-color: #FFFFFF;\n",
              "      --disabled-bg-color: #3B4455;\n",
              "      --disabled-fill-color: #666;\n",
              "  }\n",
              "\n",
              "  .colab-df-quickchart {\n",
              "    background-color: var(--bg-color);\n",
              "    border: none;\n",
              "    border-radius: 50%;\n",
              "    cursor: pointer;\n",
              "    display: none;\n",
              "    fill: var(--fill-color);\n",
              "    height: 32px;\n",
              "    padding: 0;\n",
              "    width: 32px;\n",
              "  }\n",
              "\n",
              "  .colab-df-quickchart:hover {\n",
              "    background-color: var(--hover-bg-color);\n",
              "    box-shadow: 0 1px 2px rgba(60, 64, 67, 0.3), 0 1px 3px 1px rgba(60, 64, 67, 0.15);\n",
              "    fill: var(--button-hover-fill-color);\n",
              "  }\n",
              "\n",
              "  .colab-df-quickchart-complete:disabled,\n",
              "  .colab-df-quickchart-complete:disabled:hover {\n",
              "    background-color: var(--disabled-bg-color);\n",
              "    fill: var(--disabled-fill-color);\n",
              "    box-shadow: none;\n",
              "  }\n",
              "\n",
              "  .colab-df-spinner {\n",
              "    border: 2px solid var(--fill-color);\n",
              "    border-color: transparent;\n",
              "    border-bottom-color: var(--fill-color);\n",
              "    animation:\n",
              "      spin 1s steps(1) infinite;\n",
              "  }\n",
              "\n",
              "  @keyframes spin {\n",
              "    0% {\n",
              "      border-color: transparent;\n",
              "      border-bottom-color: var(--fill-color);\n",
              "      border-left-color: var(--fill-color);\n",
              "    }\n",
              "    20% {\n",
              "      border-color: transparent;\n",
              "      border-left-color: var(--fill-color);\n",
              "      border-top-color: var(--fill-color);\n",
              "    }\n",
              "    30% {\n",
              "      border-color: transparent;\n",
              "      border-left-color: var(--fill-color);\n",
              "      border-top-color: var(--fill-color);\n",
              "      border-right-color: var(--fill-color);\n",
              "    }\n",
              "    40% {\n",
              "      border-color: transparent;\n",
              "      border-right-color: var(--fill-color);\n",
              "      border-top-color: var(--fill-color);\n",
              "    }\n",
              "    60% {\n",
              "      border-color: transparent;\n",
              "      border-right-color: var(--fill-color);\n",
              "    }\n",
              "    80% {\n",
              "      border-color: transparent;\n",
              "      border-right-color: var(--fill-color);\n",
              "      border-bottom-color: var(--fill-color);\n",
              "    }\n",
              "    90% {\n",
              "      border-color: transparent;\n",
              "      border-bottom-color: var(--fill-color);\n",
              "    }\n",
              "  }\n",
              "</style>\n",
              "\n",
              "      <script>\n",
              "        async function quickchart(key) {\n",
              "          const quickchartButtonEl =\n",
              "            document.querySelector('#' + key + ' button');\n",
              "          quickchartButtonEl.disabled = true;  // To prevent multiple clicks.\n",
              "          quickchartButtonEl.classList.add('colab-df-spinner');\n",
              "          try {\n",
              "            const charts = await google.colab.kernel.invokeFunction(\n",
              "                'suggestCharts', [key], {});\n",
              "          } catch (error) {\n",
              "            console.error('Error during call to suggestCharts:', error);\n",
              "          }\n",
              "          quickchartButtonEl.classList.remove('colab-df-spinner');\n",
              "          quickchartButtonEl.classList.add('colab-df-quickchart-complete');\n",
              "        }\n",
              "        (() => {\n",
              "          let quickchartButtonEl =\n",
              "            document.querySelector('#df-fc926f83-873d-4493-95aa-64899f2ea5ef button');\n",
              "          quickchartButtonEl.style.display =\n",
              "            google.colab.kernel.accessAllowed ? 'block' : 'none';\n",
              "        })();\n",
              "      </script>\n",
              "    </div>\n",
              "\n",
              "    </div>\n",
              "  </div>\n"
            ],
            "application/vnd.google.colaboratory.intrinsic+json": {
              "type": "dataframe",
              "variable_name": "df"
            }
          },
          "metadata": {},
          "execution_count": 7
        }
      ]
    },
    {
      "cell_type": "markdown",
      "source": [
        "### Q2: Create a preprocessor using 3 Pipelines & 1 ColumnTransformer\n",
        "* Numerical features should be imputed with its median & then scale it using `gaussian way`\n",
        "* Categorical features should be imputed with its `mode` & then apply ```OHE```\n",
        "* For the predictor named `education` apply `mode` for imputation then apply `Ordinal Encoder` on it. *Order should be like this: 'primary', 'secondary', 'tertiary'*\n",
        "\n",
        "**At last print the preprocessor & check if it shows all the pipelines are added properly or not**"
      ],
      "metadata": {
        "id": "sJ0pZj4dh_2b"
      }
    },
    {
      "cell_type": "code",
      "source": [],
      "metadata": {
        "id": "CALrAYihrHhC"
      },
      "execution_count": null,
      "outputs": []
    },
    {
      "cell_type": "markdown",
      "source": [
        "### Q3: Split the data in such a way such that train data should have 80% of the samples.\n",
        "Hint:\n",
        "* spliting should be done in a `stratified` manner\n",
        "* Put `random_state = 42`"
      ],
      "metadata": {
        "id": "UX5UwW1wj3QW"
      }
    },
    {
      "cell_type": "code",
      "source": [],
      "metadata": {
        "id": "mmcj_XD5rI62"
      },
      "execution_count": null,
      "outputs": []
    },
    {
      "cell_type": "markdown",
      "source": [
        "### Q4: Transform the train & validation data using the preprocessor which you have created in Q2."
      ],
      "metadata": {
        "id": "Odx9dVbDkav0"
      }
    },
    {
      "cell_type": "code",
      "source": [],
      "metadata": {
        "id": "aq_pBGoX25rm"
      },
      "execution_count": null,
      "outputs": []
    },
    {
      "cell_type": "markdown",
      "source": [
        "### Q5: Define a Random Forest Classifier model with the following parameters ->\n",
        "\n",
        "* random_state = 42\n",
        "* oob_score = True\n",
        "* n_jobs = -1\n",
        "* verbose = 3\n",
        "\n",
        "`Also print the model to check if the parameters are set on not`"
      ],
      "metadata": {
        "id": "_shUx4dXkrO0"
      }
    },
    {
      "cell_type": "code",
      "source": [],
      "metadata": {
        "id": "wBZ3Yk-GrK60"
      },
      "execution_count": null,
      "outputs": []
    },
    {
      "cell_type": "markdown",
      "source": [
        "### Q6: Fit the train data on Random Forest Classifier which you have defined in Q5."
      ],
      "metadata": {
        "id": "yUZHsl55lTh7"
      }
    },
    {
      "cell_type": "code",
      "source": [],
      "metadata": {
        "id": "74LeSvjJrMDp"
      },
      "execution_count": null,
      "outputs": []
    },
    {
      "cell_type": "markdown",
      "source": [
        "### Q7: Predict on Validation data using the same model & print the predictions"
      ],
      "metadata": {
        "id": "RU6uUTXHlqsp"
      }
    },
    {
      "cell_type": "code",
      "source": [],
      "metadata": {
        "id": "dLZ3vurkrNGV"
      },
      "execution_count": null,
      "outputs": []
    },
    {
      "cell_type": "markdown",
      "source": [
        "### Q8: Calculate the f1 score for the validation data"
      ],
      "metadata": {
        "id": "1et5zAdimQUp"
      }
    },
    {
      "cell_type": "code",
      "source": [],
      "metadata": {
        "id": "izlpL-r4rOXj"
      },
      "execution_count": null,
      "outputs": []
    },
    {
      "cell_type": "markdown",
      "source": [
        "### Q9: Calculate the f1 score for the train data"
      ],
      "metadata": {
        "id": "_WlrDVAxmv4Z"
      }
    },
    {
      "cell_type": "code",
      "source": [],
      "metadata": {
        "id": "5Lr5CSylrPv3"
      },
      "execution_count": null,
      "outputs": []
    },
    {
      "cell_type": "markdown",
      "source": [
        "### Q10: is the model overfitting? if yes then why?"
      ],
      "metadata": {
        "id": "vGtZ_knEncp2"
      }
    },
    {
      "cell_type": "code",
      "source": [],
      "metadata": {
        "id": "cvWqGBnKniYh"
      },
      "execution_count": null,
      "outputs": []
    },
    {
      "cell_type": "markdown",
      "source": [
        "### Q11: Re-initialize the Random Forest Classifier again with the same parameters as you did in Q5 but this time add one more parameter to it -> `class_weight = \"balanced\"`"
      ],
      "metadata": {
        "id": "SqocH32Mnja-"
      }
    },
    {
      "cell_type": "code",
      "source": [],
      "metadata": {
        "id": "84iSXKDNrRyJ"
      },
      "execution_count": null,
      "outputs": []
    },
    {
      "cell_type": "markdown",
      "source": [
        "### Q12: Train the newly initialized model in Q11"
      ],
      "metadata": {
        "id": "2ZweFGQToBK0"
      }
    },
    {
      "cell_type": "code",
      "source": [],
      "metadata": {
        "id": "CcKUudJhrSm7"
      },
      "execution_count": null,
      "outputs": []
    },
    {
      "cell_type": "markdown",
      "source": [
        "### Q13: Make Predictions on train data using the model initialized in `Q11`"
      ],
      "metadata": {
        "id": "wfeGaksEoYv8"
      }
    },
    {
      "cell_type": "code",
      "source": [],
      "metadata": {
        "id": "0W5a8_EtrTqo"
      },
      "execution_count": null,
      "outputs": []
    },
    {
      "cell_type": "markdown",
      "source": [
        "### Q14: Make Predictions on Validation Data using the model initialized in `Q11`"
      ],
      "metadata": {
        "id": "vaWiNjZIoxo9"
      }
    },
    {
      "cell_type": "code",
      "source": [],
      "metadata": {
        "id": "jpOrYTMmrU0s"
      },
      "execution_count": null,
      "outputs": []
    },
    {
      "cell_type": "markdown",
      "source": [
        "### Q15: Tally train & validation scores"
      ],
      "metadata": {
        "id": "JpvVSHRhpeCt"
      }
    },
    {
      "cell_type": "code",
      "source": [],
      "metadata": {
        "id": "I0oP2qflrWLZ"
      },
      "execution_count": null,
      "outputs": []
    },
    {
      "cell_type": "markdown",
      "source": [
        "### Q16: Perform a RFE on train data & train the model which is initialized in `Q11` which the `support` you got from RFE"
      ],
      "metadata": {
        "id": "i95n8XumqjRU"
      }
    },
    {
      "cell_type": "code",
      "source": [
        "# Write your code here"
      ],
      "metadata": {
        "id": "nx-1yCXJ66gs"
      },
      "execution_count": null,
      "outputs": []
    },
    {
      "cell_type": "markdown",
      "source": [
        "### Q17: Print the `Confusion Matrix`, `Classification Report` for the Validation after performing the steps in ***`Q16`***"
      ],
      "metadata": {
        "id": "4WL-myqirMDe"
      }
    },
    {
      "cell_type": "code",
      "source": [],
      "metadata": {
        "id": "IiujbModrag6"
      },
      "execution_count": null,
      "outputs": []
    },
    {
      "cell_type": "markdown",
      "source": [
        "### Q18: Try SVC Model to check if it works better or not"
      ],
      "metadata": {
        "id": "wXqYONVms7lF"
      }
    },
    {
      "cell_type": "code",
      "source": [],
      "metadata": {
        "id": "I-jBMg6annRx"
      },
      "execution_count": null,
      "outputs": []
    }
  ]
}